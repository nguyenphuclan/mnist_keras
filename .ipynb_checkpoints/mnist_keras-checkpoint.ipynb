{
 "cells": [
  {
   "cell_type": "markdown",
   "metadata": {},
   "source": [
    "## Nhận diện chữ số trong tập dữ liệu MNIST dùng CNN sử dụng thư viện Keras"
   ]
  },
  {
   "cell_type": "code",
   "execution_count": 1,
   "metadata": {},
   "outputs": [
    {
     "name": "stderr",
     "output_type": "stream",
     "text": [
      "Using TensorFlow backend.\n"
     ]
    }
   ],
   "source": [
    "import numpy as np\n",
    "# Linear stack of layers, feed-forwad CNN (dễ dàng kiểm soát các layer trong CNN)\n",
    "from keras.models import Sequential"
   ]
  },
  {
   "cell_type": "markdown",
   "metadata": {},
   "source": [
    "### Các \"core\" layer thường được sử dụng trong hầu hết các neural network model:\n",
    "* Dense: được sử dụng để thay đổi số chiều của vector. Implement: output = activation(dot(input, kernel) + bias); kernel: weights matrix -> tạo ra n-dimension output. Nếu \n",
    "* Dropout: được dùng để regularized, tránh overfitting bằng cách đặt ngẫu nhiên 1 phần(0->1) của input vector thành 0 tại mỗi lần cập nhật trong thời gian đào tạo\n",
    "* Flatten: làm phẳng input(chuyển input_shape -> 1-dimension input), không ảnh hưởng đến batch size"
   ]
  },
  {
   "cell_type": "code",
   "execution_count": 2,
   "metadata": {
    "collapsed": true
   },
   "outputs": [],
   "source": [
    "from keras.layers import Dense, Dropout, Flatten"
   ]
  },
  {
   "cell_type": "markdown",
   "metadata": {},
   "source": [
    "### Một số layer khác:\n",
    "* Convolution 2D: Layer này tạo ra convolution kernel được convolved với input layer để tạo ra một tensor của output. Nếu activation is not None nó sẽ được áp dụng cho output. Có thể set 'chanel_first' hoặc 'chanel_last'(default)\n",
    "* Max pooling 2D: Đi qua input và giữ lại max của mỗi pool, giá trị pool_size là kích thước cho mỗi pool, vd pool_size=(2,2)"
   ]
  },
  {
   "cell_type": "code",
   "execution_count": 3,
   "metadata": {
    "collapsed": true
   },
   "outputs": [],
   "source": [
    "from keras.layers import Conv2D, MaxPooling2D"
   ]
  },
  {
   "cell_type": "code",
   "execution_count": 4,
   "metadata": {},
   "outputs": [
    {
     "name": "stdout",
     "output_type": "stream",
     "text": [
      "x_train shape: (60000, 28, 28, 1)\n",
      "60000 train samples\n",
      "10000 test samples\n"
     ]
    }
   ],
   "source": [
    "from keras.datasets import mnist\n",
    "from keras.utils import np_utils\n",
    "from keras import backend as K\n",
    "import keras\n",
    "batch_size = 128\n",
    "num_classes = 10 # tương ứng với 10 chữ số\n",
    "epochs = 12\n",
    "# input image dimensions\n",
    "img_rows, img_cols = 28, 28\n",
    "# chia train data and test data\n",
    "(x_train, y_train), (x_test, y_test) = mnist.load_data()\n",
    "# chuyển đổi tập dữ liệu từ (n, width, height) sang (n, depth, width, height) nếu 'channels_first'\n",
    "# từ (n, width, height) sang (n, width, height, depth) nếu 'channels_last'\n",
    "if K.image_data_format() == 'channels_first':\n",
    "    x_train = x_train.reshape(x_train.shape[0], 1, img_rows, img_cols)\n",
    "    x_test = x_test.reshape(x_test.shape[0], 1, img_rows, img_cols)\n",
    "    input_shape = (1, img_rows, img_cols)\n",
    "else:\n",
    "    x_train = x_train.reshape(x_train.shape[0], img_rows, img_cols, 1)\n",
    "    x_test = x_test.reshape(x_test.shape[0], img_rows, img_cols, 1)\n",
    "    input_shape = (img_rows, img_cols, 1)\n",
    "# Bước tiền xử lý cuối cùng cho input là chuyển thành float32 \n",
    "# và chuẩn hóa các giá trị dữ liệu trong đoạn [0, 1]\n",
    "x_train = x_train.astype('float32')\n",
    "x_test = x_test.astype('float32')\n",
    "x_train /= 255\n",
    "x_test /= 255\n",
    "print('x_train shape:', x_train.shape)\n",
    "print(x_train.shape[0], 'train samples')\n",
    "print(x_test.shape[0], 'test samples')"
   ]
  },
  {
   "cell_type": "code",
   "execution_count": 5,
   "metadata": {},
   "outputs": [
    {
     "data": {
      "text/plain": [
       "(60000, 10)"
      ]
     },
     "execution_count": 5,
     "metadata": {},
     "output_type": "execute_result"
    }
   ],
   "source": [
    "# Chuyển đổi mảng 1 chiều thành ma trận lớp 10 chiều\n",
    "y_train = keras.utils.to_categorical(y_train, num_classes)\n",
    "y_test = keras.utils.to_categorical(y_test, num_classes)\n",
    "y_train.shape"
   ]
  },
  {
   "cell_type": "code",
   "execution_count": 6,
   "metadata": {},
   "outputs": [
    {
     "name": "stdout",
     "output_type": "stream",
     "text": [
      "Train on 60000 samples, validate on 10000 samples\n",
      "Epoch 1/12\n",
      "60000/60000 [==============================] - 266s - loss: 0.3500 - acc: 0.8912 - val_loss: 0.0802 - val_acc: 0.9747\n",
      "Epoch 2/12\n",
      "60000/60000 [==============================] - 276s - loss: 0.1185 - acc: 0.9651 - val_loss: 0.0534 - val_acc: 0.9830\n",
      "Epoch 3/12\n",
      "60000/60000 [==============================] - 279s - loss: 0.0900 - acc: 0.9730 - val_loss: 0.0448 - val_acc: 0.9850\n",
      "Epoch 4/12\n",
      "60000/60000 [==============================] - 279s - loss: 0.0757 - acc: 0.9780 - val_loss: 0.0399 - val_acc: 0.9876\n",
      "Epoch 5/12\n",
      "60000/60000 [==============================] - 280s - loss: 0.0635 - acc: 0.9812 - val_loss: 0.0371 - val_acc: 0.9882\n",
      "Epoch 6/12\n",
      "60000/60000 [==============================] - 293s - loss: 0.0582 - acc: 0.9830 - val_loss: 0.0322 - val_acc: 0.9889\n",
      "Epoch 7/12\n",
      "60000/60000 [==============================] - 278s - loss: 0.0543 - acc: 0.9840 - val_loss: 0.0309 - val_acc: 0.9895\n",
      "Epoch 8/12\n",
      "60000/60000 [==============================] - 278s - loss: 0.0487 - acc: 0.9856 - val_loss: 0.0296 - val_acc: 0.9903\n",
      "Epoch 9/12\n",
      "60000/60000 [==============================] - 290s - loss: 0.0464 - acc: 0.9861 - val_loss: 0.0296 - val_acc: 0.9903\n",
      "Epoch 10/12\n",
      "60000/60000 [==============================] - 303s - loss: 0.0422 - acc: 0.9878 - val_loss: 0.0293 - val_acc: 0.9901\n",
      "Epoch 11/12\n",
      "60000/60000 [==============================] - 290s - loss: 0.0432 - acc: 0.9871 - val_loss: 0.0284 - val_acc: 0.9905\n",
      "Epoch 12/12\n",
      "60000/60000 [==============================] - 309s - loss: 0.0393 - acc: 0.9887 - val_loss: 0.0267 - val_acc: 0.9903\n",
      "Test loss: 0.0266853265341\n",
      "Test accuracy: 0.9903\n"
     ]
    }
   ],
   "source": [
    "# Khai báo mô hình Sequential\n",
    "model = Sequential()\n",
    "model.add(Conv2D(32, kernel_size=(3, 3), \n",
    "                 activation='relu', \n",
    "                 input_shape=input_shape))\n",
    "# tham số đầu tiên đại diện cho số lượng các convolution filter được sử dụng,\n",
    "# kích thước mỗi bước là (1,1) theo mặc định và có thể được điều chỉnh bằng tham số 'subsample'.\n",
    "model.add(Conv2D(64, (3, 3), activation='relu'))\n",
    "model.add(MaxPooling2D(pool_size=(2, 2)))\n",
    "model.add(Dropout(0.25))\n",
    "model.add(Flatten())\n",
    "# Phải làm phẳng trước khi dùng Dense nếu số chiều của input >= 2\n",
    "model.add(Dense(128, activation='relu'))\n",
    "model.add(Dropout(0.5))\n",
    "model.add(Dense(num_classes, activation='softmax'))\n",
    "# Layer cuối có output size là 10, tương ứng với 10 class của chữ số.\n",
    "# Configures the model for training: khai báo loss function và optimizer\n",
    "# tham số metrics để đánh giá mô hình trong quá trình train và test, thường dùng ['accuracy']\n",
    "model.compile(loss=keras.losses.categorical_crossentropy,\n",
    "              optimizer=keras.optimizers.Adadelta(),\n",
    "              metrics=['accuracy'])\n",
    "# Huấn luyện model với số epoch được chỉ định\n",
    "# chế độ verbose: 0 = silent, 1 = verbose, 2 = one log line per epoch.\n",
    "model.fit(x_train, y_train,\n",
    "          batch_size=batch_size,\n",
    "          epochs=epochs,\n",
    "          verbose=1,\n",
    "          validation_data=(x_test, y_test))\n",
    "# Return loss value & metrics values in test mode\n",
    "score = model.evaluate(x_test, y_test, verbose=0)\n",
    "print('Test loss:', score[0])\n",
    "print('Test accuracy:', score[1])"
   ]
  }
 ],
 "metadata": {
  "kernelspec": {
   "display_name": "Python 3",
   "language": "python",
   "name": "python3"
  },
  "language_info": {
   "codemirror_mode": {
    "name": "ipython",
    "version": 3
   },
   "file_extension": ".py",
   "mimetype": "text/x-python",
   "name": "python",
   "nbconvert_exporter": "python",
   "pygments_lexer": "ipython3",
   "version": "3.6.1rc1"
  }
 },
 "nbformat": 4,
 "nbformat_minor": 2
}
